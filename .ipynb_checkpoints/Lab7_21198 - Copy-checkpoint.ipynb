{
 "cells": [
  {
   "cell_type": "code",
   "execution_count": 1,
   "id": "d82eed7b-a9e5-42e0-8cdc-aae1b03e095b",
   "metadata": {},
   "outputs": [],
   "source": [
    "from sklearn import preprocessing\n",
    "from scipy.spatial import distance\n",
    "from sklearn.model_selection import train_test_split\n",
    "from sklearn.neighbors import KNeighborsClassifier\n",
    "from sklearn.metrics import accuracy_score\n",
    "from sklearn.metrics import confusion_matrix, classification_report\n",
    "import warnings\n",
    "warnings.filterwarnings(\"ignore\")\n",
    "from sklearn.tree import DecisionTreeClassifier\n",
    "from sklearn.tree import plot_tree\n",
    "from sklearn.ensemble import RandomForestClassifier\n",
    "from sklearn.neural_network import MLPClassifier\n",
    "import pandas as pd\n",
    "import numpy as np\n",
    "import statistics as st\n",
    "import matplotlib.pyplot as mp\n",
    "from sklearn import linear_model\n",
    "from sklearn.linear_model import LogisticRegression\n",
    "from sklearn.metrics import mean_squared_error, r2_score\n",
    "from sklearn.tree import DecisionTreeRegressor\n",
    "from sklearn.neighbors import KNeighborsRegressor\n",
    "from sklearn import svm\n",
    "from imblearn.over_sampling import SMOTE\n"
   ]
  },
  {
   "cell_type": "code",
   "execution_count": 2,
   "id": "0f2d3856-a619-4ace-9b3e-976f40a9316f",
   "metadata": {},
   "outputs": [],
   "source": [
    "# A1. Train a support vector machine using the training set obtained from above exercise you’re your\n",
    "# dataset has multiple classes, take any two classes for this exercise\n",
    "\n",
    "two_classes = pd.read_excel('new_class_02.xlsx')\n",
    "X = two_classes.iloc[0:, 0:-2]\n",
    "Y = two_classes['class_encoded']\n",
    "X_train, X_test, Y_train, Y_test = train_test_split(X, Y, test_size=0.3)\n",
    "Y_test = pd.DataFrame(Y_test)\n",
    "Y_train = pd.DataFrame(Y_train)"
   ]
  },
  {
   "cell_type": "code",
   "execution_count": 3,
   "id": "6c64bf7e",
   "metadata": {},
   "outputs": [
    {
     "name": "stdout",
     "output_type": "stream",
     "text": [
      "No. of class 0 samples:  109\n",
      "No. of class 2 samples:  441\n"
     ]
    }
   ],
   "source": [
    "#Classes before applying SMOTE\n",
    "class_0  = Y_train[Y_train['class_encoded'] == 0] #104\n",
    "class_2  = Y_train[Y_train['class_encoded'] == 2] #446\n",
    "print(\"No. of class 0 samples: \", len(class_0))\n",
    "print(\"No. of class 2 samples: \", len(class_2))"
   ]
  },
  {
   "cell_type": "code",
   "execution_count": 4,
   "id": "6426ab59",
   "metadata": {},
   "outputs": [
    {
     "name": "stdout",
     "output_type": "stream",
     "text": [
      "No. of class 0 samples:  441\n",
      "No. of class 2 samples:  441\n"
     ]
    }
   ],
   "source": [
    "#applying smote for oversampling:\n",
    "smote_model = SMOTE(random_state=12)\n",
    "X_train_new, Y_train_new = smote_model.fit_resample(X_train,Y_train)\n",
    "\n",
    "#Classes after applying SMOTE\n",
    "class_0  = Y_train_new[Y_train_new['class_encoded'] == 0] #446\n",
    "class_2  = Y_train_new[Y_train_new['class_encoded'] == 2] #446\n",
    "print(\"No. of class 0 samples: \", len(class_0))\n",
    "print(\"No. of class 2 samples: \", len(class_2))"
   ]
  },
  {
   "cell_type": "code",
   "execution_count": 5,
   "id": "d9033790",
   "metadata": {},
   "outputs": [
    {
     "name": "stdout",
     "output_type": "stream",
     "text": [
      "Number of support vectors: 466\n",
      "Support vectors:\n",
      " [[-0.06217951  0.00193835  0.03276549 ... -0.02501435 -0.0074658\n",
      "   0.02777021]\n",
      " [-0.07222235 -0.0368112   0.03197956 ... -0.01330266 -0.01779461\n",
      "  -0.01525558]\n",
      " [-0.03615717 -0.02669283  0.03762932 ...  0.00977236  0.01066603\n",
      "  -0.05340885]\n",
      " ...\n",
      " [-0.02431916 -0.02524188  0.00282541 ...  0.01817553 -0.04527442\n",
      "  -0.00776606]\n",
      " [-0.01817632 -0.0309191   0.02522311 ...  0.02302006 -0.03283016\n",
      "   0.02185594]\n",
      " [-0.02404442 -0.00849458  0.05303678 ... -0.00505704 -0.00668373\n",
      "  -0.03452656]]\n"
     ]
    }
   ],
   "source": [
    "# A1. Train a support vector machine using the training set obtained from above exercise you’re your \n",
    "# dataset has multiple classes, take any two classes for this exercise.\n",
    "\n",
    "clf = svm.SVC()\n",
    "\n",
    "# training the SVM classifier on the training set\n",
    "clf.fit(X_train_new, Y_train_new)\n",
    "\n",
    "# getting the support vectors\n",
    "support_vectors = clf.support_vectors_\n",
    "\n",
    "# Study the support vectors\n",
    "print(\"Number of support vectors:\", len(support_vectors))\n",
    "print(\"Support vectors:\\n\", support_vectors)"
   ]
  },
  {
   "cell_type": "code",
   "execution_count": 6,
   "id": "d6c1945f",
   "metadata": {},
   "outputs": [
    {
     "name": "stdout",
     "output_type": "stream",
     "text": [
      "Accuracy on the test set:  0.8389830508474576\n",
      "The predicted class for the test vector is:  2\n"
     ]
    }
   ],
   "source": [
    "# A2. Test the accuracy of the SVM using the test set obtained from above exercise. Following code for help.\n",
    "# >>> clf.score(X_test, y_test)\n",
    "# This shall generate the accuracy report of classification done for you. \n",
    "# Perform classification for a given vector using clf.fit(<<test_vect>>). \n",
    "# This shall produce the class of the test vector (test_vect is any feature vector from your test set).\n",
    "\n",
    "accuracySVM = clf.score(X_test, Y_test) #calculating accuracy of the SVM\n",
    "print(\"Accuracy on the test set: \", accuracySVM)\n",
    "\n",
    "test_vector = X_test.iloc[196]  #i chose 196th feature from the testing set\n",
    "predicted_class = clf.predict([test_vector])\n",
    "print(\"The predicted class for the test vector is: \", predicted_class[0])\n"
   ]
  },
  {
   "cell_type": "code",
   "execution_count": 7,
   "id": "0aacb25d",
   "metadata": {},
   "outputs": [
    {
     "name": "stdout",
     "output_type": "stream",
     "text": [
      "Calculated class labels for the testing set: \n",
      " [2, 2, 2, 2, 2, 2, 2, 2, 2, 2, 2, 2, 2, 2, 2, 2, 2, 2, 2, 2, 2, 0, 2, 2, 2, 0, 2, 2, 2, 2, 2, 2, 2, 2, 2, 2, 2, 0, 2, 2, 0, 2, 2, 0, 2, 2, 2, 2, 2, 0, 2, 2, 2, 0, 2, 2, 2, 2, 2, 0, 2, 2, 2, 2, 2, 2, 2, 2, 2, 2, 2, 2, 2, 2, 2, 2, 2, 2, 2, 2, 2, 2, 2, 2, 0, 2, 2, 2, 2, 2, 2, 2, 2, 0, 2, 2, 2, 2, 2, 2, 2, 2, 2, 2, 2, 2, 2, 2, 2, 2, 0, 2, 2, 2, 2, 2, 2, 2, 2, 0, 0, 2, 2, 2, 0, 2, 2, 2, 0, 2, 2, 2, 2, 2, 2, 2, 2, 2, 2, 0, 2, 2, 2, 2, 0, 2, 0, 2, 0, 2, 2, 0, 2, 2, 2, 2, 2, 2, 2, 0, 2, 2, 0, 2, 2, 2, 2, 2, 0, 2, 0, 2, 2, 2, 2, 2, 0, 2, 2, 2, 2, 2, 0, 2, 2, 2, 2, 2, 0, 2, 0, 0, 2, 2, 2, 2, 2, 2, 2, 2, 2, 2, 2, 2, 2, 2, 2, 2, 0, 2, 2, 2, 2, 2, 2, 2, 0, 2, 2, 2, 2, 0, 2, 2, 2, 2, 2, 2, 2, 2, 2, 2, 2, 2, 2, 0]\n",
      "Predicted class labels for the testing set: \n",
      " [2, 2, 2, 2, 2, 0, 2, 0, 2, 2, 2, 2, 2, 2, 2, 2, 2, 2, 2, 2, 2, 0, 2, 2, 2, 0, 2, 2, 2, 2, 2, 2, 2, 2, 2, 2, 2, 2, 2, 0, 2, 0, 2, 2, 2, 2, 2, 2, 2, 2, 2, 0, 2, 0, 2, 2, 0, 2, 2, 0, 2, 2, 2, 2, 2, 0, 2, 0, 2, 2, 2, 2, 2, 2, 2, 2, 2, 0, 2, 2, 0, 2, 2, 2, 0, 2, 0, 2, 2, 2, 2, 2, 0, 0, 0, 2, 0, 2, 2, 2, 2, 2, 2, 2, 0, 2, 2, 2, 2, 2, 2, 2, 2, 2, 0, 2, 2, 2, 0, 2, 2, 2, 2, 2, 0, 2, 2, 2, 2, 2, 2, 2, 2, 0, 0, 0, 2, 0, 0, 0, 2, 2, 2, 2, 0, 2, 0, 2, 0, 2, 2, 0, 0, 2, 2, 0, 2, 2, 2, 0, 2, 2, 0, 2, 2, 2, 2, 2, 0, 2, 0, 0, 2, 2, 2, 2, 2, 2, 2, 2, 2, 2, 0, 2, 2, 2, 2, 2, 2, 2, 0, 0, 2, 2, 2, 2, 2, 2, 2, 2, 2, 2, 2, 2, 2, 2, 2, 2, 0, 2, 2, 2, 2, 2, 2, 2, 0, 2, 2, 2, 2, 2, 2, 2, 2, 2, 2, 2, 2, 2, 0, 2, 2, 2, 2, 2]\n",
      "Accuracy on the test set:  0.8389830508474576\n"
     ]
    }
   ],
   "source": [
    "# A3. Use the Predict function of SVC classifier to study the output values of the classifier. Relate the\n",
    "# output value to the class value predicted. Test the accuracy of the SVM, with your own logic of class\n",
    "# determination and comparing against the class labels, using the test set obtained from above\n",
    "# exercise.\n",
    "\n",
    "#creating the predicted class values\n",
    "predicted_labels = clf.predict(X_test)\n",
    "Y_test = (np.array(Y_test).flatten()).tolist()\n",
    "predicted_labels=np.array(predicted_labels).tolist()\n",
    "print(\"Calculated class labels for the testing set: \\n\", Y_test)\n",
    "print(\"Predicted class labels for the testing set: \\n\", predicted_labels)\n",
    "correct=0\n",
    "#comparing the predictions against actual class values\n",
    "for i in range(len(Y_test)):\n",
    "    if(predicted_labels[i]==Y_test[i]):\n",
    "        correct+=1\n",
    "\n",
    "# correct_predictions = sum(predicted_labels == Y_test)\n",
    "total_samples = len(Y_test)\n",
    "\n",
    "# Calculate accuracy\n",
    "accuracySVC = correct / total_samples\n",
    "print(\"Accuracy on the test set: \", accuracySVC)\n"
   ]
  }
 ],
 "metadata": {
  "kernelspec": {
   "display_name": "Python 3 (ipykernel)",
   "language": "python",
   "name": "python3"
  },
  "language_info": {
   "codemirror_mode": {
    "name": "ipython",
    "version": 3
   },
   "file_extension": ".py",
   "mimetype": "text/x-python",
   "name": "python",
   "nbconvert_exporter": "python",
   "pygments_lexer": "ipython3",
   "version": "3.11.1"
  }
 },
 "nbformat": 4,
 "nbformat_minor": 5
}
