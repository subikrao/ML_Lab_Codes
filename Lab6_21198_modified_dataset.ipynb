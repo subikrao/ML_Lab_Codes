{
 "cells": [
  {
   "cell_type": "code",
   "execution_count": 7,
   "id": "d82eed7b-a9e5-42e0-8cdc-aae1b03e095b",
   "metadata": {},
   "outputs": [],
   "source": [
    "from sklearn import preprocessing\n",
    "from scipy.spatial import distance\n",
    "from sklearn.model_selection import train_test_split\n",
    "from sklearn.neighbors import KNeighborsClassifier\n",
    "from sklearn.metrics import accuracy_score\n",
    "from sklearn.metrics import confusion_matrix, classification_report\n",
    "import warnings\n",
    "warnings.filterwarnings(\"ignore\")\n",
    "from sklearn.tree import DecisionTreeClassifier\n",
    "from sklearn.tree import plot_tree\n",
    "from sklearn.ensemble import RandomForestClassifier\n",
    "from sklearn.neural_network import MLPClassifier\n",
    "import pandas as pd\n",
    "import numpy as np\n",
    "import statistics as st\n",
    "import matplotlib.pyplot as mp"
   ]
  },
  {
   "cell_type": "code",
   "execution_count": 8,
   "id": "f4a85319-99d2-4081-8eb1-061dc893eafb",
   "metadata": {},
   "outputs": [],
   "source": [
    "#Fixing the class imbalance by setting the class boundaries as:\n",
    "# 0-2 incorrect\n",
    "# 2-3 part correct\n",
    "# 3-5 correct\n",
    "NumericalTrainingSet = pd.read_excel('numeric_data_updated.xlsx')\n",
    "NumericalTrainingSet.drop(columns = ['class_encoded'], inplace=True)\n",
    "NumericalTrainingSet['class'] = NumericalTrainingSet['output'].apply(lambda x: 'Correct' if 3<=x<=5 else ('Partially correct' if 2<=x<3 else 'Incorrect'))\n",
    "\n",
    "def labelenc(x):\n",
    "    if(x=='Incorrect'):\n",
    "        return 0\n",
    "    elif(x=='Partially correct'):\n",
    "        return 1\n",
    "    if(x=='Correct'):\n",
    "        return 2\n",
    "\n",
    "NumericalTrainingSet['class_encoded'] = NumericalTrainingSet['class'].apply(labelenc)\n",
    "NumericalTrainingSet.drop(columns = ['class'], inplace=True)\n",
    "NumericalTrainingSet.to_excel('numeric_new_class_labels.xlsx', index=False)\n"
   ]
  },
  {
   "cell_type": "code",
   "execution_count": null,
   "id": "aa25d59e",
   "metadata": {},
   "outputs": [],
   "source": [
    "class_02= NumericalTrainingSet[NumericalTrainingSet['class_encoded'].isin([0 , 2])]\n",
    "class_02.to_excel('new_class_02.xlsx', index=False)"
   ]
  }
 ],
 "metadata": {
  "kernelspec": {
   "display_name": "Python 3 (ipykernel)",
   "language": "python",
   "name": "python3"
  },
  "language_info": {
   "codemirror_mode": {
    "name": "ipython",
    "version": 3
   },
   "file_extension": ".py",
   "mimetype": "text/x-python",
   "name": "python",
   "nbconvert_exporter": "python",
   "pygments_lexer": "ipython3",
   "version": "3.11.1"
  }
 },
 "nbformat": 4,
 "nbformat_minor": 5
}
