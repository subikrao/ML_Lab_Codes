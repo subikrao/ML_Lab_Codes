{
 "cells": [
  {
   "cell_type": "code",
   "execution_count": 1,
   "id": "d82eed7b-a9e5-42e0-8cdc-aae1b03e095b",
   "metadata": {},
   "outputs": [],
   "source": [
    "from sklearn import preprocessing\n",
    "from scipy.spatial import distance\n",
    "from sklearn.model_selection import train_test_split\n",
    "from sklearn.neighbors import KNeighborsClassifier\n",
    "from sklearn.metrics import accuracy_score\n",
    "from sklearn.metrics import confusion_matrix, classification_report\n",
    "import warnings\n",
    "warnings.filterwarnings(\"ignore\")\n",
    "from sklearn.tree import DecisionTreeClassifier\n",
    "from sklearn.tree import plot_tree\n",
    "from sklearn.ensemble import RandomForestClassifier\n",
    "from sklearn.neural_network import MLPClassifier\n",
    "import pandas as pd\n",
    "import numpy as np\n",
    "import statistics as st\n",
    "import matplotlib.pyplot as mp\n",
    "from sklearn import linear_model\n",
    "from sklearn.linear_model import LogisticRegression\n",
    "from sklearn.metrics import mean_squared_error, r2_score\n",
    "from sklearn.tree import DecisionTreeRegressor\n",
    "from sklearn.neighbors import KNeighborsRegressor"
   ]
  },
  {
   "cell_type": "code",
   "execution_count": 2,
   "id": "0371cbfe",
   "metadata": {},
   "outputs": [],
   "source": [
    "from sentence_transformers import SentenceTransformer\n",
    "model=SentenceTransformer('sentence-transformers/sentence-t5-base')"
   ]
  },
  {
   "cell_type": "code",
   "execution_count": 3,
   "metadata": {},
   "outputs": [],
   "source": [
    "training_data_path = 'training.xlsx'\n",
    "df = pd.read_excel(training_data_path)"
   ]
  },
  {
   "cell_type": "code",
   "execution_count": 4,
   "metadata": {},
   "outputs": [],
   "source": [
    "#Removing line breaks in input column\n",
    "\n",
    "def remove(s):\n",
    "    if isinstance(s, str):\n",
    "        return ' '.join(s.splitlines())\n",
    "    else:\n",
    "        return s"
   ]
  },
  {
   "cell_type": "code",
   "execution_count": 5,
   "metadata": {},
   "outputs": [],
   "source": [
    "#Embeddings & dropping text solutions\n",
    "\n",
    "vectorized_df= pd.DataFrame(df['input'])\n",
    "vectorized_df['input'] = vectorized_df['input'].apply(remove)\n",
    "vectorized_df['EmbeddingsLM'] = vectorized_df['input'].apply(lambda x:model.encode(str(x)))\n",
    "\n",
    "#splitting into 768 different columns\n",
    "vectorized_df['EmbeddingsLM'] = vectorized_df['EmbeddingsLM'].apply(lambda x: x.tolist())\n",
    "num_columns = len(vectorized_df['EmbeddingsLM'][0])\n",
    "\n",
    "for i in range(num_columns):\n",
    "    col_name = \"Embedding_\"+str(i)\n",
    "    vectorized_df[col_name] = vectorized_df['EmbeddingsLM'].apply(lambda x: x[i])\n",
    " "
   ]
  },
  {
   "cell_type": "code",
   "execution_count": 6,
   "metadata": {},
   "outputs": [],
   "source": [
    "vectorized_df.drop(columns=['input','EmbeddingsLM'], inplace=True)\n",
    "vectorized_df['output'] = df['output']"
   ]
  },
  {
   "cell_type": "code",
   "execution_count": 7,
   "metadata": {},
   "outputs": [],
   "source": [
    "#Class labelling\n",
    "# 0-2 incorrect\n",
    "# 2-3 part correct\n",
    "# 3-5 correct\n",
    "\n",
    "def classes(marks):\n",
    "    if (0<=marks<2):\n",
    "        return 'incorrect'\n",
    "    elif (2<=marks<3):\n",
    "        return 'partially correct'\n",
    "    elif (3<=marks<=5):\n",
    "        return 'correct'\n",
    "\n",
    "vectorized_df['class'] = vectorized_df['output'].apply(classes)\n",
    "\n",
    "#label encoding the classes\n",
    "# 0 - incorrect\n",
    "# 1 - partially correct\n",
    "# 2 - correct\n",
    "\n",
    "def labelenc(cls):\n",
    "    if(cls=='incorrect'):\n",
    "        return 0\n",
    "    elif (cls=='partially correct'):\n",
    "        return 1\n",
    "    elif (cls=='correct'):\n",
    "        return 2\n",
    "\n",
    "numeric_df = vectorized_df.copy()\n",
    "numeric_df['class'] = numeric_df['class'].apply(labelenc)\n",
    "\n",
    "vectorized_df.to_excel('vectorized_dataset.xlsx', index=False)\n",
    "numeric_df.to_excel('numeric_dataset.xlsx', index=False)"
   ]
  }
 ],
 "metadata": {
  "kernelspec": {
   "display_name": "Python 3 (ipykernel)",
   "language": "python",
   "name": "python3"
  },
  "language_info": {
   "codemirror_mode": {
    "name": "ipython",
    "version": 3
   },
   "file_extension": ".py",
   "mimetype": "text/x-python",
   "name": "python",
   "nbconvert_exporter": "python",
   "pygments_lexer": "ipython3",
   "version": "3.11.1"
  }
 },
 "nbformat": 4,
 "nbformat_minor": 5
}
