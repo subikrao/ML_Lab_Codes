{
 "cells": [
  {
   "cell_type": "code",
   "execution_count": 1,
   "id": "d82eed7b-a9e5-42e0-8cdc-aae1b03e095b",
   "metadata": {},
   "outputs": [],
   "source": [
    "from sklearn import preprocessing\n",
    "from scipy.spatial import distance\n",
    "from sklearn.model_selection import train_test_split\n",
    "from sklearn.neighbors import KNeighborsClassifier\n",
    "from sklearn.metrics import accuracy_score\n",
    "from sklearn.metrics import confusion_matrix, classification_report\n",
    "import warnings\n",
    "warnings.filterwarnings(\"ignore\")\n",
    "from sklearn.tree import DecisionTreeClassifier\n",
    "from sklearn.tree import plot_tree\n",
    "from sklearn.ensemble import RandomForestClassifier\n",
    "from sklearn.neural_network import MLPClassifier\n",
    "import pandas as pd\n",
    "import numpy as np\n",
    "import statistics as st\n",
    "import matplotlib.pyplot as mp\n",
    "from sklearn import linear_model\n",
    "from sklearn.linear_model import LogisticRegression\n",
    "from sklearn.metrics import mean_squared_error, r2_score\n",
    "from sklearn.tree import DecisionTreeRegressor\n",
    "from sklearn.neighbors import KNeighborsRegressor"
   ]
  },
  {
   "cell_type": "code",
   "execution_count": 2,
   "id": "0371cbfe",
   "metadata": {},
   "outputs": [],
   "source": [
    "from sentence_transformers import SentenceTransformer\n",
    "model=SentenceTransformer('sentence-transformers/sentence-t5-base')"
   ]
  },
  {
   "cell_type": "code",
   "execution_count": 3,
   "metadata": {},
   "outputs": [],
   "source": [
    "dataset = 'numeric_dataset.xlsx'\n",
    "df = pd.read_excel(dataset)"
   ]
  },
  {
   "cell_type": "code",
   "execution_count": 4,
   "metadata": {},
   "outputs": [
    {
     "name": "stdout",
     "output_type": "stream",
     "text": [
      "No. of class 0 samples:  142\n",
      "No. of class 1 samples:  341\n",
      "No. of class 2 samples:  644\n"
     ]
    }
   ],
   "source": [
    "#Classes before applying SMOTE\n",
    "\n",
    "class_0  = df[df['class'] == 0] #142\n",
    "class_1  = df[df['class'] == 1] #341\n",
    "class_2  = df[df['class'] == 2] #644\n",
    "print(\"No. of class 0 samples: \", len(class_0))\n",
    "print(\"No. of class 1 samples: \", len(class_1))\n",
    "print(\"No. of class 2 samples: \", len(class_2))"
   ]
  },
  {
   "cell_type": "code",
   "execution_count": 5,
   "metadata": {},
   "outputs": [],
   "source": [
    "from imblearn.over_sampling import SMOTE\n",
    "X = df.iloc[0:, 0:-2]\n",
    "Y = df['class']\n",
    "smote_model = SMOTE(random_state=12)\n",
    "X_train, Y_train = smote_model.fit_resample(X,Y)\n",
    "Y_train = pd.DataFrame(Y_train)"
   ]
  },
  {
   "cell_type": "code",
   "execution_count": 6,
   "metadata": {},
   "outputs": [
    {
     "name": "stdout",
     "output_type": "stream",
     "text": [
      "No. of class 0 samples:  644\n",
      "No. of class 1 samples:  644\n",
      "No. of class 2 samples:  644\n"
     ]
    }
   ],
   "source": [
    "#Classes after applying SMOTE\n",
    "class_0  = Y_train[Y_train['class'] == 0] #644\n",
    "class_1  = Y_train[Y_train['class'] == 1] #644\n",
    "class_2  = Y_train[Y_train['class'] == 2] #644\n",
    "print(\"No. of class 0 samples: \", len(class_0))\n",
    "print(\"No. of class 1 samples: \", len(class_1))\n",
    "print(\"No. of class 2 samples: \", len(class_2))"
   ]
  },
  {
   "cell_type": "code",
   "execution_count": 7,
   "metadata": {},
   "outputs": [],
   "source": [
    "trainingXY = [X_train, Y_train]\n",
    "result = pd.concat(trainingXY, axis=1)\n",
    "result.to_excel('training_smoted.xlsx', index=False)"
   ]
  }
 ],
 "metadata": {
  "kernelspec": {
   "display_name": "Python 3 (ipykernel)",
   "language": "python",
   "name": "python3"
  },
  "language_info": {
   "codemirror_mode": {
    "name": "ipython",
    "version": 3
   },
   "file_extension": ".py",
   "mimetype": "text/x-python",
   "name": "python",
   "nbconvert_exporter": "python",
   "pygments_lexer": "ipython3",
   "version": "3.11.1"
  }
 },
 "nbformat": 4,
 "nbformat_minor": 5
}
